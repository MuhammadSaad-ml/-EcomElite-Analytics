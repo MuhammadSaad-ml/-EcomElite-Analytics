{
 "cells": [
  {
   "cell_type": "code",
   "execution_count": 1,
   "metadata": {},
   "outputs": [
    {
     "name": "stderr",
     "output_type": "stream",
     "text": [
      "/Users/muhammadsaad/opt/anaconda3/envs/streamlit/lib/python3.10/site-packages/scipy/__init__.py:155: UserWarning: A NumPy version >=1.18.5 and <1.26.0 is required for this version of SciPy (detected version 1.26.2\n",
      "  warnings.warn(f\"A NumPy version >={np_minversion} and <{np_maxversion}\"\n"
     ]
    }
   ],
   "source": [
    "import seaborn as sns\n",
    "import pandas as pd\n",
    "import matplotlib.pyplot as plt\n",
    "import numpy as np\n",
    "import statistics\n",
    "import time\n",
    "import os"
   ]
  },
  {
   "cell_type": "code",
   "execution_count": 2,
   "metadata": {},
   "outputs": [
    {
     "data": {
      "text/html": [
       "<div>\n",
       "<style scoped>\n",
       "    .dataframe tbody tr th:only-of-type {\n",
       "        vertical-align: middle;\n",
       "    }\n",
       "\n",
       "    .dataframe tbody tr th {\n",
       "        vertical-align: top;\n",
       "    }\n",
       "\n",
       "    .dataframe thead th {\n",
       "        text-align: right;\n",
       "    }\n",
       "</style>\n",
       "<table border=\"1\" class=\"dataframe\">\n",
       "  <thead>\n",
       "    <tr style=\"text-align: right;\">\n",
       "      <th></th>\n",
       "      <th>Additional Order items</th>\n",
       "      <th>Category Name</th>\n",
       "      <th>Customer City</th>\n",
       "      <th>Customer Country</th>\n",
       "      <th>Customer Fname</th>\n",
       "      <th>Customer Id</th>\n",
       "      <th>Customer Segment</th>\n",
       "      <th>Customer State</th>\n",
       "      <th>Customer Zipcode</th>\n",
       "      <th>Market</th>\n",
       "      <th>Order Customer Id</th>\n",
       "      <th>Order Date</th>\n",
       "      <th>Order Id</th>\n",
       "      <th>Order Region</th>\n",
       "      <th>Order Item Total</th>\n",
       "      <th>Order Quantity</th>\n",
       "      <th>Product Price</th>\n",
       "      <th>Profit Margin</th>\n",
       "      <th>Profit Per Order</th>\n",
       "      <th>Sales</th>\n",
       "    </tr>\n",
       "  </thead>\n",
       "  <tbody>\n",
       "    <tr>\n",
       "      <th>0</th>\n",
       "      <td>Camping &amp; Hiking</td>\n",
       "      <td>Camping &amp; Hiking</td>\n",
       "      <td>Caguas</td>\n",
       "      <td>Puerto Rico</td>\n",
       "      <td>Sean</td>\n",
       "      <td>568</td>\n",
       "      <td>Consumer</td>\n",
       "      <td>PR</td>\n",
       "      <td>725.0</td>\n",
       "      <td>LATAM</td>\n",
       "      <td>568</td>\n",
       "      <td>17-06-2017</td>\n",
       "      <td>61558</td>\n",
       "      <td>South America</td>\n",
       "      <td>269.980011</td>\n",
       "      <td>1</td>\n",
       "      <td>299.980011</td>\n",
       "      <td>26.10%</td>\n",
       "      <td>78.290001</td>\n",
       "      <td>800.0</td>\n",
       "    </tr>\n",
       "    <tr>\n",
       "      <th>1</th>\n",
       "      <td>Camping &amp; Hiking</td>\n",
       "      <td>Camping &amp; Hiking</td>\n",
       "      <td>Caguas</td>\n",
       "      <td>Puerto Rico</td>\n",
       "      <td>Carol</td>\n",
       "      <td>3341</td>\n",
       "      <td>Consumer</td>\n",
       "      <td>PR</td>\n",
       "      <td>725.0</td>\n",
       "      <td>LATAM</td>\n",
       "      <td>3341</td>\n",
       "      <td>18-04-2017</td>\n",
       "      <td>57472</td>\n",
       "      <td>South America</td>\n",
       "      <td>269.980011</td>\n",
       "      <td>1</td>\n",
       "      <td>299.980011</td>\n",
       "      <td>-5.40%</td>\n",
       "      <td>-16.200001</td>\n",
       "      <td>800.0</td>\n",
       "    </tr>\n",
       "    <tr>\n",
       "      <th>2</th>\n",
       "      <td>Camping &amp; Hiking</td>\n",
       "      <td>Camping &amp; Hiking</td>\n",
       "      <td>Mayaguez</td>\n",
       "      <td>Puerto Rico</td>\n",
       "      <td>Mary</td>\n",
       "      <td>7459</td>\n",
       "      <td>Consumer</td>\n",
       "      <td>PR</td>\n",
       "      <td>680.0</td>\n",
       "      <td>LATAM</td>\n",
       "      <td>7459</td>\n",
       "      <td>24-05-2017</td>\n",
       "      <td>59898</td>\n",
       "      <td>Central America</td>\n",
       "      <td>263.980011</td>\n",
       "      <td>1</td>\n",
       "      <td>299.980011</td>\n",
       "      <td>3.90%</td>\n",
       "      <td>11.620000</td>\n",
       "      <td>800.0</td>\n",
       "    </tr>\n",
       "    <tr>\n",
       "      <th>3</th>\n",
       "      <td>Camping &amp; Hiking</td>\n",
       "      <td>Camping &amp; Hiking</td>\n",
       "      <td>Mayaguez</td>\n",
       "      <td>Puerto Rico</td>\n",
       "      <td>Mary</td>\n",
       "      <td>7459</td>\n",
       "      <td>Consumer</td>\n",
       "      <td>PR</td>\n",
       "      <td>680.0</td>\n",
       "      <td>LATAM</td>\n",
       "      <td>7459</td>\n",
       "      <td>24-05-2017</td>\n",
       "      <td>59898</td>\n",
       "      <td>Central America</td>\n",
       "      <td>260.980011</td>\n",
       "      <td>1</td>\n",
       "      <td>299.980011</td>\n",
       "      <td>-1.10%</td>\n",
       "      <td>-3.390000</td>\n",
       "      <td>800.0</td>\n",
       "    </tr>\n",
       "  </tbody>\n",
       "</table>\n",
       "</div>"
      ],
      "text/plain": [
       "  Additional Order items     Category Name Customer City Customer Country  \\\n",
       "0       Camping & Hiking  Camping & Hiking        Caguas      Puerto Rico   \n",
       "1       Camping & Hiking  Camping & Hiking        Caguas      Puerto Rico   \n",
       "2       Camping & Hiking  Camping & Hiking      Mayaguez      Puerto Rico   \n",
       "3       Camping & Hiking  Camping & Hiking      Mayaguez      Puerto Rico   \n",
       "\n",
       "  Customer Fname  Customer Id Customer Segment Customer State  \\\n",
       "0           Sean          568         Consumer             PR   \n",
       "1          Carol         3341         Consumer             PR   \n",
       "2           Mary         7459         Consumer             PR   \n",
       "3           Mary         7459         Consumer             PR   \n",
       "\n",
       "   Customer Zipcode Market  Order Customer Id  Order Date  Order Id  \\\n",
       "0             725.0  LATAM                568  17-06-2017     61558   \n",
       "1             725.0  LATAM               3341  18-04-2017     57472   \n",
       "2             680.0  LATAM               7459  24-05-2017     59898   \n",
       "3             680.0  LATAM               7459  24-05-2017     59898   \n",
       "\n",
       "      Order Region  Order Item Total  Order Quantity  Product Price  \\\n",
       "0    South America        269.980011               1     299.980011   \n",
       "1    South America        269.980011               1     299.980011   \n",
       "2  Central America        263.980011               1     299.980011   \n",
       "3  Central America        260.980011               1     299.980011   \n",
       "\n",
       "  Profit Margin  Profit Per Order  Sales  \n",
       "0        26.10%         78.290001  800.0  \n",
       "1        -5.40%        -16.200001  800.0  \n",
       "2         3.90%         11.620000  800.0  \n",
       "3        -1.10%         -3.390000  800.0  "
      ]
     },
     "execution_count": 2,
     "metadata": {},
     "output_type": "execute_result"
    }
   ],
   "source": [
    "df=pd.read_csv(\"E commerce daata.csv\")\n",
    "df.head(4)"
   ]
  },
  {
   "cell_type": "code",
   "execution_count": 3,
   "metadata": {},
   "outputs": [
    {
     "data": {
      "text/plain": [
       "(115746, 20)"
      ]
     },
     "execution_count": 3,
     "metadata": {},
     "output_type": "execute_result"
    }
   ],
   "source": [
    "df.shape"
   ]
  },
  {
   "cell_type": "code",
   "execution_count": 5,
   "metadata": {},
   "outputs": [
    {
     "data": {
      "text/plain": [
       "Index(['Additional Order items', 'Category Name', 'Customer City',\n",
       "       'Customer Country', 'Customer Fname', 'Customer Id', 'Customer Segment',\n",
       "       'Customer State', 'Customer Zipcode', 'Market', 'Order Customer Id',\n",
       "       'Order Date', 'Order Id', 'Order Region', 'Order Item Total',\n",
       "       'Order Quantity', 'Product Price', 'Profit Margin', 'Profit Per Order',\n",
       "       'Sales'],\n",
       "      dtype='object')"
      ]
     },
     "execution_count": 5,
     "metadata": {},
     "output_type": "execute_result"
    }
   ],
   "source": [
    "df.columns"
   ]
  },
  {
   "cell_type": "code",
   "execution_count": 6,
   "metadata": {},
   "outputs": [
    {
     "data": {
      "text/plain": [
       "Additional Order items    1024\n",
       "Category Name                0\n",
       "Customer City                0\n",
       "Customer Country             0\n",
       "Customer Fname               0\n",
       "Customer Id                  0\n",
       "Customer Segment             0\n",
       "Customer State               0\n",
       "Customer Zipcode             3\n",
       "Market                       0\n",
       "Order Customer Id            0\n",
       "Order Date                   0\n",
       "Order Id                     0\n",
       "Order Region                 0\n",
       "Order Item Total             0\n",
       "Order Quantity               0\n",
       "Product Price                0\n",
       "Profit Margin                0\n",
       "Profit Per Order             0\n",
       "Sales                        0\n",
       "dtype: int64"
      ]
     },
     "execution_count": 6,
     "metadata": {},
     "output_type": "execute_result"
    }
   ],
   "source": [
    "df.isnull().sum()"
   ]
  },
  {
   "cell_type": "code",
   "execution_count": 8,
   "metadata": {},
   "outputs": [
    {
     "data": {
      "text/plain": [
       "<bound method DataFrame.info of        Additional Order items       Category Name Customer City  \\\n",
       "0            Camping & Hiking    Camping & Hiking        Caguas   \n",
       "1            Camping & Hiking    Camping & Hiking        Caguas   \n",
       "2            Camping & Hiking    Camping & Hiking      Mayaguez   \n",
       "3            Camping & Hiking    Camping & Hiking      Mayaguez   \n",
       "4          Hunting & Shooting  Hunting & Shooting        Caguas   \n",
       "...                       ...                 ...           ...   \n",
       "115741           Water Sports        Water Sports   Los Angeles   \n",
       "115742          Shop By Sport       Shop By Sport        Upland   \n",
       "115743                Fishing             Fishing   Los Angeles   \n",
       "115744                Fishing             Fishing   Los Angeles   \n",
       "115745             Golf Balls          Golf Balls     Las Vegas   \n",
       "\n",
       "       Customer Country Customer Fname  Customer Id Customer Segment  \\\n",
       "0           Puerto Rico           Sean          568         Consumer   \n",
       "1           Puerto Rico          Carol         3341         Consumer   \n",
       "2           Puerto Rico           Mary         7459         Consumer   \n",
       "3           Puerto Rico           Mary         7459         Consumer   \n",
       "4           Puerto Rico           Mary        10740         Consumer   \n",
       "...                 ...            ...          ...              ...   \n",
       "115741    United States           Mary         2666        Corporate   \n",
       "115742    United States       Victoria         8100        Corporate   \n",
       "115743    United States           Mary         2666        Corporate   \n",
       "115744    United States           Mary         9547        Corporate   \n",
       "115745    United States           Mary        11747        Corporate   \n",
       "\n",
       "       Customer State  Customer Zipcode Market  Order Customer Id  Order Date  \\\n",
       "0                  PR             725.0  LATAM                568  17-06-2017   \n",
       "1                  PR             725.0  LATAM               3341  18-04-2017   \n",
       "2                  PR             680.0  LATAM               7459  24-05-2017   \n",
       "3                  PR             680.0  LATAM               7459  24-05-2017   \n",
       "4                  PR             725.0  LATAM              10740  05-06-2017   \n",
       "...               ...               ...    ...                ...         ...   \n",
       "115741             CA           90033.0   USCA               2666  13-04-2016   \n",
       "115742             CA           91786.0   USCA               8100  07-02-2016   \n",
       "115743             CA           90033.0   USCA               2666  13-04-2016   \n",
       "115744             CA           90027.0   USCA               9547  08-06-2016   \n",
       "115745             NV           89123.0   USCA              11747  26-04-2016   \n",
       "\n",
       "        Order Id     Order Region  Order Item Total  Order Quantity  \\\n",
       "0          61558    South America        269.980011               1   \n",
       "1          57472    South America        269.980011               1   \n",
       "2          59898  Central America        263.980011               1   \n",
       "3          59898  Central America        260.980011               1   \n",
       "4          58644  Central America        130.490005               1   \n",
       "...          ...              ...               ...             ...   \n",
       "115741     32105        US Center        175.990005               1   \n",
       "115742     37555      East of USA         33.189999               1   \n",
       "115743     32105        US Center        331.980011               1   \n",
       "115744     39980      West of USA        331.980011               1   \n",
       "115745     32995      West of USA         12.440000               1   \n",
       "\n",
       "        Product Price Profit Margin  Profit Per Order       Sales  \n",
       "0          299.980011        26.10%         78.290001  800.000000  \n",
       "1          299.980011        -5.40%        -16.200001  800.000000  \n",
       "2          299.980011         3.90%         11.620000  800.000000  \n",
       "3          299.980011        -1.10%         -3.390000  800.000000  \n",
       "4          149.990005       -63.80%        -95.650002  149.990005  \n",
       "...               ...           ...               ...         ...  \n",
       "115741     199.990005        27.50%         55.090000  199.990005  \n",
       "115742      39.990002        37.40%         14.940000   39.990002  \n",
       "115743     399.980011        39.80%        159.350006  399.980011  \n",
       "115744     399.980011        24.90%         99.599998  399.980011  \n",
       "115745      14.990000        39.80%          5.970000   14.990000  \n",
       "\n",
       "[115746 rows x 20 columns]>"
      ]
     },
     "execution_count": 8,
     "metadata": {},
     "output_type": "execute_result"
    }
   ],
   "source": [
    "df.info"
   ]
  },
  {
   "cell_type": "code",
   "execution_count": 9,
   "metadata": {},
   "outputs": [
    {
     "name": "stdout",
     "output_type": "stream",
     "text": [
      "<class 'pandas.core.frame.DataFrame'>\n",
      "RangeIndex: 115746 entries, 0 to 115745\n",
      "Data columns (total 20 columns):\n",
      " #   Column                  Non-Null Count   Dtype  \n",
      "---  ------                  --------------   -----  \n",
      " 0   Additional Order items  114722 non-null  object \n",
      " 1   Category Name           115746 non-null  object \n",
      " 2   Customer City           115746 non-null  object \n",
      " 3   Customer Country        115746 non-null  object \n",
      " 4   Customer Fname          115746 non-null  object \n",
      " 5   Customer Id             115746 non-null  int64  \n",
      " 6   Customer Segment        115746 non-null  object \n",
      " 7   Customer State          115746 non-null  object \n",
      " 8   Customer Zipcode        115743 non-null  float64\n",
      " 9   Market                  115746 non-null  object \n",
      " 10  Order Customer Id       115746 non-null  int64  \n",
      " 11  Order Date              115746 non-null  object \n",
      " 12  Order Id                115746 non-null  int64  \n",
      " 13  Order Region            115746 non-null  object \n",
      " 14  Order Item Total        115746 non-null  float64\n",
      " 15  Order Quantity          115746 non-null  int64  \n",
      " 16  Product Price           115746 non-null  float64\n",
      " 17  Profit Margin           115746 non-null  object \n",
      " 18  Profit Per Order        115746 non-null  float64\n",
      " 19  Sales                   115746 non-null  float64\n",
      "dtypes: float64(5), int64(4), object(11)\n",
      "memory usage: 17.7+ MB\n"
     ]
    }
   ],
   "source": [
    "df.info()"
   ]
  }
 ],
 "metadata": {
  "kernelspec": {
   "display_name": "streamlit",
   "language": "python",
   "name": "python3"
  },
  "language_info": {
   "codemirror_mode": {
    "name": "ipython",
    "version": 3
   },
   "file_extension": ".py",
   "mimetype": "text/x-python",
   "name": "python",
   "nbconvert_exporter": "python",
   "pygments_lexer": "ipython3",
   "version": "3.10.9"
  }
 },
 "nbformat": 4,
 "nbformat_minor": 2
}
